{
 "cells": [
  {
   "cell_type": "code",
   "execution_count": 1,
   "metadata": {},
   "outputs": [
    {
     "data": {
      "text/plain": [
       "<Experiment: artifact_location='dbfs:/databricks/mlflow-tracking/1858882611825285', creation_time=1761102889708, experiment_id='1858882611825285', last_update_time=1761699138796, lifecycle_stage='active', name='/Users/isabel.valladolid@iteso.mx/nyc-taxi-experiments', tags={'mlflow.experiment.sourceName': '/Users/isabel.valladolid@iteso.mx/nyc-taxi-experiments',\n",
       " 'mlflow.experimentType': 'MLFLOW_EXPERIMENT',\n",
       " 'mlflow.ownerEmail': 'isabel.valladolid@iteso.mx',\n",
       " 'mlflow.ownerId': '72142664924861'}>"
      ]
     },
     "execution_count": 1,
     "metadata": {},
     "output_type": "execute_result"
    }
   ],
   "source": [
    "import os\n",
    "from dotenv import load_dotenv\n",
    "import mlflow\n",
    "import pathlib\n",
    "\n",
    "load_dotenv(override=True)\n",
    "\n",
    "EXPERIMENT_NAME = \"/Users/isabel.valladolid@iteso.mx/nyc-taxi-experiments\"\n",
    "mlflow.set_tracking_uri(\"databricks\")  \n",
    "mlflow.set_experiment(EXPERIMENT_NAME)"
   ]
  },
  {
   "cell_type": "markdown",
   "id": "49a954bf",
   "metadata": {},
   "source": [
    "#### Descargar en la carpeta data el conjunto de datos correspondiente a marzo del 2025"
   ]
  },
  {
   "cell_type": "code",
   "execution_count": 2,
   "id": "648cdd3c",
   "metadata": {},
   "outputs": [
    {
     "name": "stdout",
     "output_type": "stream",
     "text": [
      "El archivo ya existe en ../data/green_tripdata_2025-03.parquet\n"
     ]
    }
   ],
   "source": [
    "import requests\n",
    "import pathlib\n",
    "\n",
    "DATA_DIR = pathlib.Path(\"../data\")\n",
    "DATA_DIR.mkdir(parents=True, exist_ok=True)\n",
    "\n",
    "URL = \"https://d37ci6vzurychx.cloudfront.net/trip-data/green_tripdata_2025-03.parquet\"\n",
    "TARGET_PATH = os.path.join(DATA_DIR, 'green_tripdata_2025-03.parquet')\n",
    "\n",
    "if not os.path.exists(TARGET_PATH):\n",
    "    if URL:\n",
    "        print(f\"Descargando {URL} -> {TARGET_PATH} ...\")\n",
    "        r = requests.get(URL, stream=True)\n",
    "        r.raise_for_status()\n",
    "        with open(TARGET_PATH, 'wb') as f:\n",
    "            for chunk in r.iter_content(chunk_size=1024*1024):\n",
    "                f.write(chunk)\n",
    "        print(\"Descarga completa.\")\n",
    "    else:\n",
    "        print(\"No se proporcionó DOWNLOAD_URL. Por favor coloca la URL del parquet en la variable de entorno GREEN_2025_03_URL o descarga manualmente a data/.\")\n",
    "else:\n",
    "    print(f\"El archivo ya existe en {TARGET_PATH}\")"
   ]
  },
  {
   "cell_type": "markdown",
   "id": "26e835a5",
   "metadata": {},
   "source": [
    "#### Leer y preprocesar los datos"
   ]
  },
  {
   "cell_type": "code",
   "execution_count": 3,
   "id": "2866d350",
   "metadata": {},
   "outputs": [],
   "source": [
    "import pandas as pd\n",
    "from sklearn.feature_extraction import DictVectorizer\n",
    "from sklearn.metrics import root_mean_squared_error\n",
    "\n",
    "def read_dataframe(path):\n",
    "    df = pd.read_parquet(path)\n",
    "    df[\"duration\"] = (df.lpep_dropoff_datetime - df.lpep_pickup_datetime).dt.total_seconds() / 60\n",
    "    df = df[(df.duration >= 1) & (df.duration <= 60)]\n",
    "    df[[\"PULocationID\", \"DOLocationID\"]] = df[[\"PULocationID\", \"DOLocationID\"]].astype(str)\n",
    "    return df\n",
    "\n",
    "df_train = read_dataframe(\"../data/green_tripdata_2025-01.parquet\")\n",
    "df_val = read_dataframe(\"../data/green_tripdata_2025-02.parquet\")"
   ]
  },
  {
   "cell_type": "code",
   "execution_count": 4,
   "id": "5c3a31a3",
   "metadata": {},
   "outputs": [
    {
     "data": {
      "text/plain": [
       "((46307, 4159), (44218, 4159))"
      ]
     },
     "execution_count": 4,
     "metadata": {},
     "output_type": "execute_result"
    }
   ],
   "source": [
    "# Feature Engineering + One Hot Encoding\n",
    "\n",
    "def preprocess(df, dv):\n",
    "    df['PU_DO'] = df['PULocationID'] + '_' + df['DOLocationID']\n",
    "    categorical = ['PU_DO']\n",
    "    numerical = ['trip_distance']\n",
    "    train_dicts = df[categorical + numerical].to_dict(orient='records')\n",
    "    return dv.transform(train_dicts)\n",
    "\n",
    "dv = DictVectorizer()\n",
    "df_train = df_train.copy()\n",
    "df_train['PU_DO'] = df_train['PULocationID'] + '_' + df_train['DOLocationID']\n",
    "X_train = dv.fit_transform(df_train[['PU_DO','trip_distance']].to_dict(orient='records'))\n",
    "\n",
    "X_val = preprocess(df_val, dv)\n",
    "target = 'duration'\n",
    "y_train = df_train[target].values\n",
    "y_val   = df_val[target].values\n",
    "\n",
    "# Log opcional de datasets (como en tu base):\n",
    "training_dataset   = mlflow.data.from_numpy(getattr(X_train, \"data\", X_train), targets=y_train, name=\"green_tripdata_2025-01\")\n",
    "validation_dataset = mlflow.data.from_numpy(getattr(X_val, \"data\", X_val), targets=y_val, name=\"green_tripdata_2025-02\")\n",
    "\n",
    "X_train.shape, X_val.shape"
   ]
  },
  {
   "cell_type": "markdown",
   "id": "708f9e76",
   "metadata": {},
   "source": [
    "#### Primer parent experiment: **Gradient Boost (XGBoost) con Optuna**"
   ]
  },
  {
   "cell_type": "code",
   "execution_count": 5,
   "id": "23b5c3a0",
   "metadata": {},
   "outputs": [],
   "source": [
    "import xgboost as xgb\n",
    "import optuna\n",
    "import pickle\n",
    "from optuna.samplers import TPESampler\n",
    "from mlflow.models.signature import infer_signature\n",
    "from sklearn.metrics import mean_squared_error\n",
    "import numpy as np"
   ]
  },
  {
   "cell_type": "code",
   "execution_count": 6,
   "id": "e91c7dd9",
   "metadata": {},
   "outputs": [
    {
     "name": "stderr",
     "output_type": "stream",
     "text": [
      "[I 2025-10-28 19:07:08,127] A new study created in memory with name: no-name-03399315-e23c-4710-b662-354bfc74c519\n",
      "2025/10/28 19:07:11 WARNING mlflow.models.model: `artifact_path` is deprecated. Please use `name` instead.\n",
      "/Users/isabelvalladolid/Documents/ProyectoCienciaDatos/nyc-taxi-predictions-2025/.venv/lib/python3.11/site-packages/mlflow/xgboost/__init__.py:169: UserWarning: [19:07:14] WARNING: /Users/runner/work/xgboost/xgboost/src/c_api/c_api.cc:1575: Saving model in the UBJSON format as default.  You can use a file extension: `json` or `ubj` to choose between formats.\n",
      "  xgb_model.save_model(model_data_path)\n",
      "2025/10/28 19:07:16 WARNING mlflow.utils.environment: Failed to resolve installed pip version. ``pip`` will be added to conda.yaml environment spec without a version specifier.\n",
      "/Users/isabelvalladolid/Documents/ProyectoCienciaDatos/nyc-taxi-predictions-2025/.venv/lib/python3.11/site-packages/mlflow/xgboost/__init__.py:321: UserWarning: [19:07:16] WARNING: /Users/runner/work/xgboost/xgboost/src/c_api/c_api.cc:1511: Unknown file format: `xgb`. Using UBJSON (`ubj`) as a guess.\n",
      "  model.load_model(xgb_model_path)\n",
      "2025/10/28 19:07:16 INFO mlflow.models.model: Found the following environment variables used during model inference: [DATABRICKS_HOST, DATABRICKS_TOKEN]. Please check if you need to set them when deploying the model. To disable this message, set environment variable `MLFLOW_RECORD_ENV_VARS_IN_MODEL_LOGGING` to `false`.\n"
     ]
    },
    {
     "name": "stdout",
     "output_type": "stream",
     "text": [
      "🏃 View run xgboost_optuna_trial at: https://dbc-00d2933e-633b.cloud.databricks.com/ml/experiments/1858882611825285/runs/7a0eb5441f7b4b199959cb5ebb44bcc8\n",
      "🧪 View experiment at: https://dbc-00d2933e-633b.cloud.databricks.com/ml/experiments/1858882611825285\n"
     ]
    },
    {
     "name": "stderr",
     "output_type": "stream",
     "text": [
      "[I 2025-10-28 19:07:25,363] Trial 0 finished with value: 5.43449809048156 and parameters: {'max_depth': 10, 'learning_rate': 0.2536999076681771, 'reg_alpha': 0.03872090295370417, 'reg_lambda': 0.0024430162614261434, 'min_child_weight': 0.004207988669606638}. Best is trial 0 with value: 5.43449809048156.\n",
      "2025/10/28 19:07:28 WARNING mlflow.models.model: `artifact_path` is deprecated. Please use `name` instead.\n",
      "/Users/isabelvalladolid/Documents/ProyectoCienciaDatos/nyc-taxi-predictions-2025/.venv/lib/python3.11/site-packages/mlflow/xgboost/__init__.py:169: UserWarning: [19:07:30] WARNING: /Users/runner/work/xgboost/xgboost/src/c_api/c_api.cc:1575: Saving model in the UBJSON format as default.  You can use a file extension: `json` or `ubj` to choose between formats.\n",
      "  xgb_model.save_model(model_data_path)\n",
      "2025/10/28 19:07:31 WARNING mlflow.utils.environment: Failed to resolve installed pip version. ``pip`` will be added to conda.yaml environment spec without a version specifier.\n",
      "/Users/isabelvalladolid/Documents/ProyectoCienciaDatos/nyc-taxi-predictions-2025/.venv/lib/python3.11/site-packages/mlflow/xgboost/__init__.py:321: UserWarning: [19:07:31] WARNING: /Users/runner/work/xgboost/xgboost/src/c_api/c_api.cc:1511: Unknown file format: `xgb`. Using UBJSON (`ubj`) as a guess.\n",
      "  model.load_model(xgb_model_path)\n"
     ]
    },
    {
     "name": "stdout",
     "output_type": "stream",
     "text": [
      "🏃 View run xgboost_optuna_trial at: https://dbc-00d2933e-633b.cloud.databricks.com/ml/experiments/1858882611825285/runs/50814dde9c9743f9a003073749cfd18e\n",
      "🧪 View experiment at: https://dbc-00d2933e-633b.cloud.databricks.com/ml/experiments/1858882611825285\n"
     ]
    },
    {
     "name": "stderr",
     "output_type": "stream",
     "text": [
      "[I 2025-10-28 19:07:37,943] Trial 1 finished with value: 5.692282028786779 and parameters: {'max_depth': 6, 'learning_rate': 0.012184186502221764, 'reg_alpha': 0.6245760287469887, 'reg_lambda': 0.002570603566117596, 'min_child_weight': 0.6796578090758157}. Best is trial 0 with value: 5.43449809048156.\n",
      "2025/10/28 19:07:39 WARNING mlflow.models.model: `artifact_path` is deprecated. Please use `name` instead.\n",
      "/Users/isabelvalladolid/Documents/ProyectoCienciaDatos/nyc-taxi-predictions-2025/.venv/lib/python3.11/site-packages/mlflow/xgboost/__init__.py:169: UserWarning: [19:07:44] WARNING: /Users/runner/work/xgboost/xgboost/src/c_api/c_api.cc:1575: Saving model in the UBJSON format as default.  You can use a file extension: `json` or `ubj` to choose between formats.\n",
      "  xgb_model.save_model(model_data_path)\n",
      "2025/10/28 19:07:45 WARNING mlflow.utils.environment: Failed to resolve installed pip version. ``pip`` will be added to conda.yaml environment spec without a version specifier.\n",
      "/Users/isabelvalladolid/Documents/ProyectoCienciaDatos/nyc-taxi-predictions-2025/.venv/lib/python3.11/site-packages/mlflow/xgboost/__init__.py:321: UserWarning: [19:07:45] WARNING: /Users/runner/work/xgboost/xgboost/src/c_api/c_api.cc:1511: Unknown file format: `xgb`. Using UBJSON (`ubj`) as a guess.\n",
      "  model.load_model(xgb_model_path)\n"
     ]
    },
    {
     "name": "stdout",
     "output_type": "stream",
     "text": [
      "🏃 View run xgboost_optuna_trial at: https://dbc-00d2933e-633b.cloud.databricks.com/ml/experiments/1858882611825285/runs/182f34f2311248ab8f86888e6800209d\n",
      "🧪 View experiment at: https://dbc-00d2933e-633b.cloud.databricks.com/ml/experiments/1858882611825285\n"
     ]
    },
    {
     "name": "stderr",
     "output_type": "stream",
     "text": [
      "[I 2025-10-28 19:07:48,115] Trial 2 finished with value: 5.532208825182618 and parameters: {'max_depth': 4, 'learning_rate': 0.27081608642499677, 'reg_alpha': 0.310444354994832, 'reg_lambda': 8.148018307012941e-07, 'min_child_weight': 0.005337032762603957}. Best is trial 0 with value: 5.43449809048156.\n",
      "2025/10/28 19:07:50 WARNING mlflow.models.model: `artifact_path` is deprecated. Please use `name` instead.\n",
      "/Users/isabelvalladolid/Documents/ProyectoCienciaDatos/nyc-taxi-predictions-2025/.venv/lib/python3.11/site-packages/mlflow/xgboost/__init__.py:169: UserWarning: [19:07:51] WARNING: /Users/runner/work/xgboost/xgboost/src/c_api/c_api.cc:1575: Saving model in the UBJSON format as default.  You can use a file extension: `json` or `ubj` to choose between formats.\n",
      "  xgb_model.save_model(model_data_path)\n",
      "2025/10/28 19:07:53 WARNING mlflow.utils.environment: Failed to resolve installed pip version. ``pip`` will be added to conda.yaml environment spec without a version specifier.\n",
      "/Users/isabelvalladolid/Documents/ProyectoCienciaDatos/nyc-taxi-predictions-2025/.venv/lib/python3.11/site-packages/mlflow/xgboost/__init__.py:321: UserWarning: [19:07:53] WARNING: /Users/runner/work/xgboost/xgboost/src/c_api/c_api.cc:1511: Unknown file format: `xgb`. Using UBJSON (`ubj`) as a guess.\n",
      "  model.load_model(xgb_model_path)\n"
     ]
    },
    {
     "name": "stdout",
     "output_type": "stream",
     "text": [
      "🏃 View run xgboost_optuna_trial at: https://dbc-00d2933e-633b.cloud.databricks.com/ml/experiments/1858882611825285/runs/107190bd33774008a71d6d579d207e10\n",
      "🧪 View experiment at: https://dbc-00d2933e-633b.cloud.databricks.com/ml/experiments/1858882611825285\n"
     ]
    },
    {
     "name": "stderr",
     "output_type": "stream",
     "text": [
      "[I 2025-10-28 19:07:57,741] Trial 3 finished with value: 5.589369956664044 and parameters: {'max_depth': 7, 'learning_rate': 0.028145092716060652, 'reg_alpha': 0.00052821153945323, 'reg_lambda': 7.71800699380605e-05, 'min_child_weight': 0.014618962793704969}. Best is trial 0 with value: 5.43449809048156.\n",
      "2025/10/28 19:08:02 WARNING mlflow.models.model: `artifact_path` is deprecated. Please use `name` instead.\n",
      "/Users/isabelvalladolid/Documents/ProyectoCienciaDatos/nyc-taxi-predictions-2025/.venv/lib/python3.11/site-packages/mlflow/xgboost/__init__.py:169: UserWarning: [19:08:04] WARNING: /Users/runner/work/xgboost/xgboost/src/c_api/c_api.cc:1575: Saving model in the UBJSON format as default.  You can use a file extension: `json` or `ubj` to choose between formats.\n",
      "  xgb_model.save_model(model_data_path)\n",
      "2025/10/28 19:08:06 WARNING mlflow.utils.environment: Failed to resolve installed pip version. ``pip`` will be added to conda.yaml environment spec without a version specifier.\n",
      "/Users/isabelvalladolid/Documents/ProyectoCienciaDatos/nyc-taxi-predictions-2025/.venv/lib/python3.11/site-packages/mlflow/xgboost/__init__.py:321: UserWarning: [19:08:06] WARNING: /Users/runner/work/xgboost/xgboost/src/c_api/c_api.cc:1511: Unknown file format: `xgb`. Using UBJSON (`ubj`) as a guess.\n",
      "  model.load_model(xgb_model_path)\n"
     ]
    },
    {
     "name": "stdout",
     "output_type": "stream",
     "text": [
      "🏃 View run xgboost_optuna_trial at: https://dbc-00d2933e-633b.cloud.databricks.com/ml/experiments/1858882611825285/runs/bd03e91fc1344b31a8771e67eeea5275\n",
      "🧪 View experiment at: https://dbc-00d2933e-633b.cloud.databricks.com/ml/experiments/1858882611825285\n"
     ]
    },
    {
     "name": "stderr",
     "output_type": "stream",
     "text": [
      "[I 2025-10-28 19:08:34,208] Trial 4 finished with value: 5.541143092081019 and parameters: {'max_depth': 14, 'learning_rate': 0.01607123851203988, 'reg_alpha': 4.258943089524393e-06, 'reg_lambda': 1.9826980964985924e-05, 'min_child_weight': 0.06672367170464209}. Best is trial 0 with value: 5.43449809048156.\n",
      "2025/10/28 19:08:37 WARNING mlflow.models.model: `artifact_path` is deprecated. Please use `name` instead.\n",
      "/Users/isabelvalladolid/Documents/ProyectoCienciaDatos/nyc-taxi-predictions-2025/.venv/lib/python3.11/site-packages/mlflow/xgboost/__init__.py:169: UserWarning: [19:08:38] WARNING: /Users/runner/work/xgboost/xgboost/src/c_api/c_api.cc:1575: Saving model in the UBJSON format as default.  You can use a file extension: `json` or `ubj` to choose between formats.\n",
      "  xgb_model.save_model(model_data_path)\n",
      "2025/10/28 19:08:41 WARNING mlflow.utils.environment: Failed to resolve installed pip version. ``pip`` will be added to conda.yaml environment spec without a version specifier.\n",
      "/Users/isabelvalladolid/Documents/ProyectoCienciaDatos/nyc-taxi-predictions-2025/.venv/lib/python3.11/site-packages/mlflow/xgboost/__init__.py:321: UserWarning: [19:08:41] WARNING: /Users/runner/work/xgboost/xgboost/src/c_api/c_api.cc:1511: Unknown file format: `xgb`. Using UBJSON (`ubj`) as a guess.\n",
      "  model.load_model(xgb_model_path)\n"
     ]
    },
    {
     "name": "stdout",
     "output_type": "stream",
     "text": [
      "🏃 View run XGBoost Hyperparameter Optimization Parent at: https://dbc-00d2933e-633b.cloud.databricks.com/ml/experiments/1858882611825285/runs/10d1adaab013499eaab70f1583a39cd6\n",
      "🧪 View experiment at: https://dbc-00d2933e-633b.cloud.databricks.com/ml/experiments/1858882611825285\n"
     ]
    }
   ],
   "source": [
    "PARENT_XGB = \"XGBoost_Parent_Experiment\"\n",
    "\n",
    "if X_train is not None:\n",
    "    dtrain = xgb.DMatrix(X_train, label=y_train)\n",
    "    dvalid = xgb.DMatrix(X_val, label=y_val)\n",
    "\n",
    "    def objective(trial: optuna.trial.Trial):\n",
    "        params = {\n",
    "            'max_depth': trial.suggest_int('max_depth', 4, 20),\n",
    "            'learning_rate': trial.suggest_float('learning_rate', 0.01, 0.3, log=True),\n",
    "            'reg_alpha': trial.suggest_float('reg_alpha', 1e-8, 10.0, log=True),\n",
    "            'reg_lambda': trial.suggest_float('reg_lambda', 1e-8, 10.0, log=True),\n",
    "            'min_child_weight': trial.suggest_float('min_child_weight', 1e-3, 10.0, log=True),\n",
    "            'objective': 'reg:squarederror',\n",
    "            'seed': 42\n",
    "        }\n",
    "\n",
    "        with mlflow.start_run(run_name='xgboost_optuna_trial', nested=True):\n",
    "            mlflow.set_tag('model_family', 'xgboost')\n",
    "            mlflow.log_params(params)\n",
    "\n",
    "            booster = xgb.train(\n",
    "                params=params,\n",
    "                dtrain=dtrain,\n",
    "                num_boost_round=200,\n",
    "                evals=[(dvalid, 'validation')],\n",
    "                early_stopping_rounds=10,\n",
    "                verbose_eval=False\n",
    "            )\n",
    "\n",
    "            y_pred = booster.predict(dvalid)\n",
    "            rmse = np.sqrt(mean_squared_error(y_val, y_pred))\n",
    "            mlflow.log_metric('rmse', rmse)\n",
    "\n",
    "            # guardar modelo\n",
    "            signature = infer_signature(X_val[:5].toarray() if hasattr(X_val, 'toarray') else X_val[:5], y_pred[:5])\n",
    "            mlflow.xgboost.log_model(booster, artifact_path='model', input_example=X_val[:5].toarray() if hasattr(X_val, 'toarray') else X_val[:5], signature=signature)\n",
    "\n",
    "        return rmse\n",
    "    \n",
    "    sampler = TPESampler(seed=42)\n",
    "    study = optuna.create_study(direction='minimize', sampler=sampler)\n",
    "\n",
    "    with mlflow.start_run(run_name='XGBoost Hyperparameter Optimization Parent', nested=False):\n",
    "        study.optimize(objective, n_trials=5)\n",
    "\n",
    "        best_params = study.best_params\n",
    "        best_params['seed'] = 42\n",
    "        best_params['objective'] = 'reg:squarederror'\n",
    "\n",
    "        # Entrenar modelo final con best_params\n",
    "        booster = xgb.train(\n",
    "            params=best_params,\n",
    "            dtrain=dtrain,\n",
    "            num_boost_round=200,\n",
    "            evals=[(dvalid, 'validation')],\n",
    "            early_stopping_rounds=10,\n",
    "            verbose_eval=False\n",
    "        )\n",
    "\n",
    "        y_pred = booster.predict(dvalid)\n",
    "        rmse = np.sqrt(mean_squared_error(y_val, y_pred))\n",
    "        mlflow.log_metric('rmse', rmse)\n",
    "\n",
    "        pathlib.Path('preprocessor').mkdir(exist_ok=True)\n",
    "        with open('preprocessor/dv_xgb.b', 'wb') as f_out:\n",
    "            pickle.dump(dv, f_out)\n",
    "        mlflow.log_artifact('preprocessor/dv_xgb.b', artifact_path='preprocessor')\n",
    "\n",
    "        # Registrar artefacto modelo\n",
    "        feature_names = dv.get_feature_names_out()\n",
    "        input_example = pd.DataFrame(X_val[:5].toarray(), columns=feature_names)\n",
    "        signature = infer_signature(input_example, y_pred[:5])\n",
    "        mlflow.xgboost.log_model(booster, artifact_path='model', input_example=input_example, signature=signature, registered_model_name=None)"
   ]
  },
  {
   "cell_type": "markdown",
   "id": "dd8b3b8b",
   "metadata": {},
   "source": [
    "#### Segundo parent experiment: **Random Forest con Randomized Search (sklearn)**"
   ]
  },
  {
   "cell_type": "code",
   "execution_count": 7,
   "id": "0d3d535d",
   "metadata": {},
   "outputs": [],
   "source": [
    "from sklearn.ensemble import RandomForestRegressor\n",
    "from sklearn.model_selection import RandomizedSearchCV"
   ]
  },
  {
   "cell_type": "code",
   "execution_count": 8,
   "id": "2c4ba7b1",
   "metadata": {},
   "outputs": [
    {
     "name": "stderr",
     "output_type": "stream",
     "text": [
      "2025/10/28 19:09:37 WARNING mlflow.models.model: `artifact_path` is deprecated. Please use `name` instead.\n",
      "/Users/isabelvalladolid/Documents/ProyectoCienciaDatos/nyc-taxi-predictions-2025/.venv/lib/python3.11/site-packages/sklearn/utils/validation.py:2742: UserWarning: X has feature names, but RandomForestRegressor was fitted without feature names\n",
      "  warnings.warn(\n",
      "2025/10/28 19:09:40 WARNING mlflow.utils.environment: Failed to resolve installed pip version. ``pip`` will be added to conda.yaml environment spec without a version specifier.\n",
      "/Users/isabelvalladolid/Documents/ProyectoCienciaDatos/nyc-taxi-predictions-2025/.venv/lib/python3.11/site-packages/sklearn/utils/validation.py:2742: UserWarning: X has feature names, but RandomForestRegressor was fitted without feature names\n",
      "  warnings.warn(\n"
     ]
    },
    {
     "name": "stdout",
     "output_type": "stream",
     "text": [
      "🏃 View run RandomForest Parent at: https://dbc-00d2933e-633b.cloud.databricks.com/ml/experiments/1858882611825285/runs/bba9b771a9f0407faa9bf3085d32ee40\n",
      "🧪 View experiment at: https://dbc-00d2933e-633b.cloud.databricks.com/ml/experiments/1858882611825285\n"
     ]
    }
   ],
   "source": [
    "PARENT_RF = 'RandomForest_Parent_Experiment'\n",
    "\n",
    "if X_train is not None:\n",
    "    rf = RandomForestRegressor(random_state=42, n_jobs=-1)\n",
    "    param_dist = {\n",
    "        'n_estimators': [50, 100, 200],\n",
    "        'max_depth': [None, 10, 20, 30],\n",
    "        'min_samples_split': [2, 5, 10]\n",
    "    }\n",
    "\n",
    "    with mlflow.start_run(run_name='RandomForest Parent', nested=False):\n",
    "        mlflow.set_tag('model_family', 'random_forest')\n",
    "        search = RandomizedSearchCV(rf, param_distributions=param_dist, n_iter=6, cv=3, scoring='neg_root_mean_squared_error', n_jobs=-1, random_state=42)\n",
    "        search.fit(X_train, y_train)\n",
    "\n",
    "        best_rf = search.best_estimator_\n",
    "        y_pred = best_rf.predict(X_val)\n",
    "        rmse = np.sqrt(mean_squared_error(y_val, y_pred))\n",
    "        mlflow.log_params(search.best_params_)\n",
    "        mlflow.log_metric('rmse', rmse)\n",
    "\n",
    "        # guardar preprocessor y modelo\n",
    "        with open('preprocessor/dv_rf.b', 'wb') as f_out:\n",
    "            pickle.dump(dv, f_out)\n",
    "        mlflow.log_artifact('preprocessor/dv_rf.b', artifact_path='preprocessor')\n",
    "\n",
    "        # registrar sklearn model\n",
    "        mlflow.sklearn.log_model(best_rf, artifact_path='model', input_example=pd.DataFrame(X_val[:5].toarray(), columns=dv.get_feature_names_out()))"
   ]
  },
  {
   "cell_type": "markdown",
   "id": "aab07a4b",
   "metadata": {},
   "source": [
    "#### Registrar el mejor modelo de los experimentos como 'nyc-taxi-model' y asignar alias 'challenger'"
   ]
  },
  {
   "cell_type": "code",
   "execution_count": 11,
   "id": "4027bf3a",
   "metadata": {},
   "outputs": [
    {
     "name": "stdout",
     "output_type": "stream",
     "text": [
      "Mejor run: 4da81d8531784e338eb8e7b23047c809 rmse= 5.410463874732254\n"
     ]
    },
    {
     "name": "stderr",
     "output_type": "stream",
     "text": [
      "Registered model 'workspace.default.nyc-taxi-model' already exists. Creating a new version of this model...\n",
      "2025/10/28 19:12:43 WARNING mlflow.tracking._model_registry.fluent: Run with id 4da81d8531784e338eb8e7b23047c809 has no artifacts at artifact path 'model', registering model based on models:/m-b800c8c2d5844386bdd1aa5e945f72e9 instead\n"
     ]
    },
    {
     "data": {
      "application/vnd.jupyter.widget-view+json": {
       "model_id": "429d2e9932314623be892eb83844eb61",
       "version_major": 2,
       "version_minor": 0
      },
      "text/plain": [
       "Downloading artifacts:   0%|          | 0/7 [00:00<?, ?it/s]"
      ]
     },
     "metadata": {},
     "output_type": "display_data"
    },
    {
     "data": {
      "application/vnd.jupyter.widget-view+json": {
       "model_id": "3816c2d9178f420390e9f74f789b300a",
       "version_major": 2,
       "version_minor": 0
      },
      "text/plain": [
       "Uploading artifacts:   0%|          | 0/8 [00:00<?, ?it/s]"
      ]
     },
     "metadata": {},
     "output_type": "display_data"
    },
    {
     "name": "stderr",
     "output_type": "stream",
     "text": [
      "Created version '10' of model 'workspace.default.nyc-taxi-model'.\n"
     ]
    },
    {
     "name": "stdout",
     "output_type": "stream",
     "text": [
      "Modelo registrado: workspace.default.nyc-taxi-model v10 (alias 'challenger' asignado - comprobar en MLflow UI)\n"
     ]
    },
    {
     "data": {
      "text/plain": [
       "{'model_name': 'workspace.default.nyc-taxi-model', 'version': '10'}"
      ]
     },
     "execution_count": 11,
     "metadata": {},
     "output_type": "execute_result"
    }
   ],
   "source": [
    "def register_best_as_challenger(experiment_name, model_name):\n",
    "    \"\"\"\n",
    "    Busca el mejor run por RMSE en el experimento, registra su artefacto 'model' como nueva\n",
    "    versión de `model_name` y asigna el alias 'challenger' a esa versión.\n",
    "    Retorna un dict con información básica (model_name, version) o None si falla.\n",
    "    \"\"\"\n",
    "    import mlflow\n",
    "    from mlflow import MlflowClient\n",
    "    from datetime import datetime\n",
    "\n",
    "    client = MlflowClient()\n",
    "\n",
    "    runs = mlflow.search_runs(experiment_names=[experiment_name], order_by=[\"metrics.rmse ASC\"], output_format=\"list\")\n",
    "    if not runs:\n",
    "        print(\"No se encontraron runs para el experimento:\", experiment_name)\n",
    "        return None\n",
    "\n",
    "    best_run = runs[0]\n",
    "    run_id = best_run.info.run_id\n",
    "    rmse = best_run.data.metrics.get(\"rmse\")\n",
    "    print(\"Mejor run:\", run_id, \"rmse=\", rmse)\n",
    "\n",
    "    model_uri = f\"runs:/{run_id}/model\"\n",
    "    result = mlflow.register_model(model_uri=model_uri, name=model_name)\n",
    "    version = result.version\n",
    "\n",
    "    # Intentar asignar alias 'challenger' (algunas versiones de MLflow usan distintos métodos)\n",
    "    try:\n",
    "        client.set_registered_model_alias(name=model_name, alias=\"challenger\", version=version)\n",
    "    except Exception:\n",
    "        try:\n",
    "            # fallback: marcar la versión con un tag indicando challenger\n",
    "            client.set_model_version_tag(name=model_name, version=version, key=\"alias\", value=\"challenger\")\n",
    "        except Exception as exc:\n",
    "            print(\"No se pudo asignar alias 'challenger' automáticamente:\", exc)\n",
    "\n",
    "    # Actualizar descripción de la versión con timestamp legible\n",
    "    try:\n",
    "        client.update_model_version(name=model_name, version=version,\n",
    "                                    description=f\"Assigned alias 'challenger' on {datetime.now().strftime('%Y-%m-%d %H:%M:%S')}\")\n",
    "    except Exception as exc:\n",
    "        print(\"No se pudo actualizar la descripción de la versión:\", exc)\n",
    "\n",
    "    print(f\"Modelo registrado: {model_name} v{version} (alias 'challenger' asignado - comprobar en MLflow UI)\")\n",
    "    return {\"model_name\": model_name, \"version\": version}\n",
    "\n",
    "\n",
    "register_best_as_challenger(EXPERIMENT_NAME, \"workspace.default.nyc-taxi-model\")"
   ]
  },
  {
   "cell_type": "markdown",
   "id": "08cf9538",
   "metadata": {},
   "source": [
    "#### Evaluar Champion y Challenger sobre marzo 2025"
   ]
  },
  {
   "cell_type": "markdown",
   "id": "f64b24d4",
   "metadata": {},
   "source": [
    "Evalúa modelos Champion y challenger sobre marzo 2025.Requiere: read_dataframe(), preprocess(df, dv) y un DictVectorizer `dv`. Retorna: dict con rmse_champion, rmse_challenger y un DataFrame summary. Imprime diagnósticos si no puede cargar los modelos."
   ]
  },
  {
   "cell_type": "code",
   "execution_count": null,
   "id": "0edc2444",
   "metadata": {},
   "outputs": [
    {
     "data": {
      "application/vnd.jupyter.widget-view+json": {
       "model_id": "8a6000b41fe741eeab3a3708c812aa93",
       "version_major": 2,
       "version_minor": 0
      },
      "text/plain": [
       "Downloading artifacts:   0%|          | 0/8 [00:00<?, ?it/s]"
      ]
     },
     "metadata": {},
     "output_type": "display_data"
    },
    {
     "name": "stderr",
     "output_type": "stream",
     "text": [
      "/Users/isabelvalladolid/Documents/ProyectoCienciaDatos/nyc-taxi-predictions-2025/.venv/lib/python3.11/site-packages/mlflow/xgboost/__init__.py:321: UserWarning: [19:17:48] WARNING: /Users/runner/work/xgboost/xgboost/src/c_api/c_api.cc:1511: Unknown file format: `xgb`. Using UBJSON (`ubj`) as a guess.\n",
      "  model.load_model(xgb_model_path)\n"
     ]
    },
    {
     "data": {
      "application/vnd.jupyter.widget-view+json": {
       "model_id": "3a5b97afbf584ba6b07b2a092041bab8",
       "version_major": 2,
       "version_minor": 0
      },
      "text/plain": [
       "Downloading artifacts:   0%|          | 0/8 [00:00<?, ?it/s]"
      ]
     },
     "metadata": {},
     "output_type": "display_data"
    },
    {
     "name": "stderr",
     "output_type": "stream",
     "text": [
      "/Users/isabelvalladolid/Documents/ProyectoCienciaDatos/nyc-taxi-predictions-2025/.venv/lib/python3.11/site-packages/mlflow/xgboost/__init__.py:321: UserWarning: [19:17:56] WARNING: /Users/runner/work/xgboost/xgboost/src/c_api/c_api.cc:1511: Unknown file format: `xgb`. Using UBJSON (`ubj`) as a guess.\n",
      "  model.load_model(xgb_model_path)\n"
     ]
    },
    {
     "name": "stdout",
     "output_type": "stream",
     "text": [
      "Evaluación marzo 2025 — modelo: workspace.default.nyc-taxi-model\n",
      "         role       rmse error  delta_vs_champion\n",
      "0    Champion  13.200961  None                0.0\n",
      "1  Challenger  13.200961  None                0.0\n"
     ]
    }
   ],
   "source": [
    "def evaluate_champion_challenger_march(march_path=\"../data/green_tripdata_2025-03.parquet\",\n",
    "                                       dv=None,\n",
    "                                       model_name=\"workspace.default.nyc-taxi-model\"):\n",
    "\n",
    "    import os\n",
    "    import mlflow.pyfunc\n",
    "    from mlflow import MlflowClient\n",
    "    import numpy as np\n",
    "    import pandas as pd\n",
    "    from sklearn.metrics import mean_squared_error\n",
    "\n",
    "    if dv is None:\n",
    "        raise ValueError(\"Se requiere `dv` (DictVectorizer). Pasa dv=tu_vectorizador.\")\n",
    "\n",
    "    if not os.path.exists(march_path):\n",
    "        raise FileNotFoundError(f\"No se encontró {march_path}. Descarga marzo 2025 en data/ y vuelve a ejecutar.\")\n",
    "\n",
    "    # preparar datos\n",
    "    df_march = read_dataframe(march_path)\n",
    "    X_march = preprocess(df_march, dv=dv)\n",
    "    X_input = X_march.toarray() if hasattr(X_march, \"toarray\") else X_march\n",
    "    y_march = df_march[\"duration\"].values\n",
    "\n",
    "    client = MlflowClient()\n",
    "\n",
    "    def try_load_and_score(alias):\n",
    "        uri = f\"models:/{model_name}@{alias}\"\n",
    "        try:\n",
    "            m = mlflow.pyfunc.load_model(uri)\n",
    "            y_pred = m.predict(X_input)\n",
    "            rmse = float(np.sqrt(mean_squared_error(y_march, y_pred)))\n",
    "            return {\"rmse\": rmse, \"error\": None}\n",
    "        except Exception as exc:\n",
    "            # diagnóstico: listar versiones y aliases\n",
    "            diag = []\n",
    "            try:\n",
    "                for rm in client.search_registered_models():\n",
    "                    if rm.name == model_name:\n",
    "                        for v in rm.latest_versions:\n",
    "                            diag.append({\"version\": v.version, \"stage\": v.current_stage, \"aliases\": v.aliases})\n",
    "            except Exception:\n",
    "                pass\n",
    "            return {\"rmse\": None, \"error\": str(exc), \"diagnostics\": diag}\n",
    "\n",
    "    champion_res = try_load_and_score(\"Champion\")\n",
    "    challenger_res = try_load_and_score(\"challenger\")\n",
    "\n",
    "    results = {\n",
    "        \"rmse_champion\": champion_res.get(\"rmse\"),\n",
    "        \"rmse_challenger\": challenger_res.get(\"rmse\"),\n",
    "        \"champion_error\": champion_res.get(\"error\"),\n",
    "        \"challenger_error\": challenger_res.get(\"error\")\n",
    "    }\n",
    "\n",
    "    # summary DataFrame\n",
    "    summary = pd.DataFrame([\n",
    "        {\"role\": \"Champion\", \"rmse\": results[\"rmse_champion\"], \"error\": results[\"champion_error\"]},\n",
    "        {\"role\": \"Challenger\", \"rmse\": results[\"rmse_challenger\"], \"error\": results[\"challenger_error\"]}\n",
    "    ])\n",
    "\n",
    "    # agregar comparación si ambos rmse disponibles\n",
    "    if results[\"rmse_champion\"] is not None and results[\"rmse_challenger\"] is not None:\n",
    "        results[\"delta\"] = results[\"rmse_challenger\"] - results[\"rmse_champion\"]\n",
    "        summary[\"delta_vs_champion\"] = summary[\"rmse\"] - results[\"rmse_champion\"]\n",
    "\n",
    "    # imprimir breve reporte\n",
    "    print(\"Evaluación marzo 2025 — modelo:\", model_name)\n",
    "    print(summary)\n",
    "\n",
    "    # adjuntar diagnostics en caso de error\n",
    "    if champion_res.get(\"diagnostics\"):\n",
    "        print(\"Diagnostics Champion:\", champion_res[\"diagnostics\"])\n",
    "    if challenger_res.get(\"diagnostics\"):\n",
    "        print(\"Diagnostics Challenger:\", challenger_res[\"diagnostics\"])\n",
    "\n",
    "    results[\"summary_df\"] = summary\n",
    "    return results\n",
    "\n",
    "summary_results = evaluate_champion_challenger_march(\n",
    "    march_path=\"../data/green_tripdata_2025-03.parquet\",\n",
    "    dv=dv,\n",
    "    model_name=\"workspace.default.nyc-taxi-model\"   )"
   ]
  },
  {
   "cell_type": "markdown",
   "id": "92788026",
   "metadata": {},
   "source": [
    "#### Decisión de promoción y justificación"
   ]
  },
  {
   "cell_type": "markdown",
   "id": "00485971",
   "metadata": {},
   "source": [
    "Decide si promover el challenger a Champion según summary_results (dict que contiene rmse_champion y rmse_challenger). Registra la decisión en un run de MLflow con trazas y tags; intenta asignar alias 'Champion' y/o transicionar la versión a 'Production'. Retorna dict con la decisión y trazas."
   ]
  },
  {
   "cell_type": "code",
   "execution_count": null,
   "id": "e346a2f9",
   "metadata": {},
   "outputs": [
    {
     "name": "stdout",
     "output_type": "stream",
     "text": [
      "🏃 View run promotion_decision at: https://dbc-00d2933e-633b.cloud.databricks.com/ml/experiments/1858882611825285/runs/f79ee599785c4d2e86b06aa28241b664\n",
      "🧪 View experiment at: https://dbc-00d2933e-633b.cloud.databricks.com/ml/experiments/1858882611825285\n"
     ]
    }
   ],
   "source": [
    "def decide_promotion_and_justify(summary_results,\n",
    "                                 model_name=\"workspace.default.nyc-taxi-model\",\n",
    "                                 delta_threshold=0.0,\n",
    "                                 experiment_name=None,\n",
    "                                 mlflow_run_name=\"promotion_decision\"):\n",
    "    \n",
    "    import mlflow\n",
    "    from mlflow import MlflowClient\n",
    "    from datetime import datetime\n",
    "    import json\n",
    "\n",
    "    client = MlflowClient()\n",
    "\n",
    "    rmse_champ = summary_results.get(\"rmse_champion\")\n",
    "    rmse_chall = summary_results.get(\"rmse_challenger\")\n",
    "\n",
    "    decision = {\n",
    "        \"model_name\": model_name,\n",
    "        \"rmse_champion\": rmse_champ,\n",
    "        \"rmse_challenger\": rmse_chall,\n",
    "        \"delta\": None,\n",
    "        \"promote\": False,\n",
    "        \"reason\": None,\n",
    "        \"timestamp\": datetime.now().isoformat(),\n",
    "        \"diagnostics\": []\n",
    "    }\n",
    "\n",
    "    if rmse_champ is None or rmse_chall is None:\n",
    "        decision[\"reason\"] = \"Falta rmse de Champion o Challenger\"\n",
    "        # add registry diagnostics\n",
    "        try:\n",
    "            for rm in client.search_registered_models():\n",
    "                if rm.name == model_name:\n",
    "                    for v in rm.latest_versions:\n",
    "                        decision[\"diagnostics\"].append({\"version\": v.version, \"stage\": v.current_stage, \"aliases\": v.aliases})\n",
    "        except Exception as exc:\n",
    "            decision[\"diagnostics\"].append({\"error_listing_models\": str(exc)})\n",
    "\n",
    "        # log decision run\n",
    "        with mlflow.start_run(run_name=mlflow_run_name):\n",
    "            mlflow.set_tag(\"decision_flow\", \"promotion_check\")\n",
    "            mlflow.log_dict(decision, \"promotion_decision.json\")\n",
    "        return decision\n",
    "\n",
    "    decision[\"delta\"] = rmse_chall - rmse_champ\n",
    "\n",
    "    # regla: promover si challenger mejor por más que delta_threshold (menor RMSE => mejor)\n",
    "    if decision[\"delta\"] < -abs(delta_threshold):\n",
    "        decision[\"promote\"] = True\n",
    "        decision[\"reason\"] = f\"Challenger mejora Champion por {abs(decision['delta']):.6f} (> {delta_threshold})\"\n",
    "    else:\n",
    "        decision[\"promote\"] = False\n",
    "        decision[\"reason\"] = f\"No hay mejora significativa (delta={decision['delta']:.6f}, threshold={delta_threshold})\"\n",
    "\n",
    "    # localizar versión marcada como 'challenger'\n",
    "    challenger_version = None\n",
    "    try:\n",
    "        for rm in client.search_registered_models():\n",
    "            if rm.name == model_name:\n",
    "                for v in rm.latest_versions:\n",
    "                    # v.aliases disponible en muchas versiones; fallback a tags\n",
    "                    aliases = getattr(v, \"aliases\", []) or []\n",
    "                    if \"challenger\" in [a.lower() for a in aliases]:\n",
    "                        challenger_version = v.version\n",
    "                        break\n",
    "                    # fallback: tag check\n",
    "                    try:\n",
    "                        tags = client.get_model_version(name=model_name, version=v.version).tags\n",
    "                        if tags.get(\"alias\", \"\").lower() == \"challenger\":\n",
    "                            challenger_version = v.version\n",
    "                            break\n",
    "                    except Exception:\n",
    "                        pass\n",
    "            if challenger_version:\n",
    "                break\n",
    "    except Exception as exc:\n",
    "        decision[\"diagnostics\"].append({\"error_finding_challenger\": str(exc)})\n",
    "\n",
    "    # registrar run de decisión (traza) y tags\n",
    "    with mlflow.start_run(run_name=mlflow_run_name) as run:\n",
    "        mlflow.set_tag(\"decision_flow\", \"promotion_check\")\n",
    "        mlflow.set_tag(\"model_name\", model_name)\n",
    "        mlflow.log_metric(\"rmse_champion\", float(rmse_champ))\n",
    "        mlflow.log_metric(\"rmse_challenger\", float(rmse_chall))\n",
    "        mlflow.log_metric(\"delta\", float(decision[\"delta\"]))\n",
    "        mlflow.set_tag(\"promote_decision\", str(decision[\"promote\"]))\n",
    "        mlflow.log_text(decision[\"reason\"], \"decision_reason.txt\")\n",
    "        # guardar JSON detalle\n",
    "        mlflow.log_dict(decision, \"promotion_decision.json\")\n",
    "\n",
    "        # intentar promover en registry si corresponde\n",
    "        if decision[\"promote\"]:\n",
    "            if challenger_version is None:\n",
    "                decision[\"promote\"] = False\n",
    "                decision[\"reason\"] = \"Queríamos promover pero no se encontró versión 'challenger' en el registro\"\n",
    "                mlflow.set_tag(\"promote_result\", \"no_version_found\")\n",
    "                mlflow.log_dict(decision, \"promotion_decision.json\")\n",
    "            else:\n",
    "                promoted = False\n",
    "                try:\n",
    "                    # intentar asignar alias 'Champion' a la versión challenger\n",
    "                    try:\n",
    "                        client.set_registered_model_alias(name=model_name, alias=\"Champion\", version=challenger_version)\n",
    "                        promoted = True\n",
    "                    except Exception:\n",
    "                        # fallback: transicionar a Production (y archivar existentes)\n",
    "                        try:\n",
    "                            client.transition_model_version_stage(name=model_name,\n",
    "                                                                  version=challenger_version,\n",
    "                                                                  stage=\"Production\",\n",
    "                                                                  archive_existing_versions=True)\n",
    "                            promoted = True\n",
    "                        except Exception as exc_stage:\n",
    "                            decision[\"diagnostics\"].append({\"promotion_error\": str(exc_stage)})\n",
    "                            promoted = False\n",
    "\n",
    "                    if promoted:\n",
    "                        mlflow.set_tag(\"promote_result\", \"success\")\n",
    "                        decision[\"promoted_version\"] = challenger_version\n",
    "                        decision[\"reason\"] = f\"Promovido challenger v{challenger_version} a Champion/Production\"\n",
    "                    else:\n",
    "                        mlflow.set_tag(\"promote_result\", \"failed\")\n",
    "                except Exception as exc:\n",
    "                    decision[\"diagnostics\"].append({\"promotion_outer_error\": str(exc)})\n",
    "                    mlflow.set_tag(\"promote_result\", \"failed_exception\")\n",
    "\n",
    "        else:\n",
    "            mlflow.set_tag(\"promote_result\", \"not_promoted\")\n",
    "\n",
    "    return decision\n",
    "\n",
    "decision = decide_promotion_and_justify(\n",
    "    summary_results,\n",
    "    model_name=\"workspace.default.nyc-taxi-model\",\n",
    "    delta_threshold=0.0,\n",
    "    experiment_name=EXPERIMENT_NAME    \n",
    "    )"
   ]
  }
 ],
 "metadata": {
  "kernelspec": {
   "display_name": "nyc-taxi-predictions-2025",
   "language": "python",
   "name": "python3"
  },
  "language_info": {
   "codemirror_mode": {
    "name": "ipython",
    "version": 3
   },
   "file_extension": ".py",
   "mimetype": "text/x-python",
   "name": "python",
   "nbconvert_exporter": "python",
   "pygments_lexer": "ipython3",
   "version": "3.11.0"
  }
 },
 "nbformat": 4,
 "nbformat_minor": 5
}
