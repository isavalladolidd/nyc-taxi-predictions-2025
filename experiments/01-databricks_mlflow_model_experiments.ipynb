{
 "cells": [
  {
   "cell_type": "code",
   "execution_count": 1,
   "id": "2c7d8304",
   "metadata": {},
   "outputs": [],
   "source": [
    "import os, mlflow\n",
    "from dotenv import load_dotenv\n",
    "\n",
    "load_dotenv(override=True)  # Carga las variables del archivo .env\n",
    "EXPERIMENT_NAME = \"/Users/isabel.valladolid@iteso.mx/nyc-taxi-experiments\"\n",
    "\n",
    "mlflow.set_tracking_uri(\"databricks\")\n",
    "experiment = mlflow.set_experiment(experiment_name=EXPERIMENT_NAME)"
   ]
  },
  {
   "cell_type": "code",
   "execution_count": 2,
   "id": "dc5f3079",
   "metadata": {},
   "outputs": [],
   "source": [
    "import pickle\n",
    "import pandas as pd\n",
    "from sklearn.metrics import  root_mean_squared_error\n",
    "from sklearn.feature_extraction import  DictVectorizer"
   ]
  },
  {
   "cell_type": "code",
   "execution_count": 3,
   "id": "a5a73571",
   "metadata": {},
   "outputs": [],
   "source": [
    "def read_dataframe(filename):\n",
    "\n",
    "    df = pd.read_parquet(filename)\n",
    "\n",
    "    df['duration'] = df.lpep_dropoff_datetime - df.lpep_pickup_datetime\n",
    "    df.duration = df.duration.apply(lambda td: td.total_seconds() / 60)\n",
    "\n",
    "    df = df[(df.duration >= 1) & (df.duration <= 60)]\n",
    "\n",
    "    categorical = ['PULocationID', 'DOLocationID']\n",
    "    df[categorical] = df[categorical].astype(str)\n",
    "\n",
    "    return df"
   ]
  },
  {
   "cell_type": "code",
   "execution_count": 4,
   "id": "69054535",
   "metadata": {},
   "outputs": [],
   "source": [
    "df_train = read_dataframe('../data/green_tripdata_2025-01.parquet')\n",
    "df_val = read_dataframe('../data/green_tripdata_2025-02.parquet')"
   ]
  },
  {
   "cell_type": "markdown",
   "id": "58eadf19",
   "metadata": {},
   "source": [
    "Feature Engineering + One Hot Encoding"
   ]
  },
  {
   "cell_type": "code",
   "execution_count": 5,
   "id": "b0abd224",
   "metadata": {},
   "outputs": [],
   "source": [
    "def preprocess(df, dv):\n",
    "    df['PU_DO'] = df['PULocationID'] + '_' + df['DOLocationID']\n",
    "    categorical = ['PU_DO']\n",
    "    numerical = ['trip_distance']\n",
    "    train_dicts = df[categorical + numerical].to_dict(orient='records')\n",
    "    return dv.transform(train_dicts)\n",
    "\n",
    "df_train['PU_DO'] = df_train['PULocationID'] + '_' + df_train['DOLocationID']\n",
    "categorical = ['PU_DO']\n",
    "numerical = ['trip_distance']\n",
    "dv = DictVectorizer()\n",
    "\n",
    "train_dicts = df_train[categorical + numerical].to_dict(orient='records')\n",
    "X_train = dv.fit_transform(train_dicts)\n",
    "\n",
    "X_val = preprocess(df_val, dv)"
   ]
  },
  {
   "cell_type": "markdown",
   "id": "96acbc1f",
   "metadata": {},
   "source": [
    "target"
   ]
  },
  {
   "cell_type": "code",
   "execution_count": 6,
   "id": "78fa10c2",
   "metadata": {},
   "outputs": [],
   "source": [
    "target = 'duration'\n",
    "y_train = df_train[target].values\n",
    "y_val = df_val[target].values"
   ]
  },
  {
   "cell_type": "markdown",
   "id": "c62f9063",
   "metadata": {},
   "source": [
    "Definir los dataset como objetos de mlflow para poderlos trackear"
   ]
  },
  {
   "cell_type": "code",
   "execution_count": 7,
   "id": "90e50d53",
   "metadata": {},
   "outputs": [],
   "source": [
    "training_dataset = mlflow.data.from_numpy(X_train.data, targets=y_train, name=\"green_tripdata_2025-01\")\n",
    "validation_dataset = mlflow.data.from_numpy(X_val.data, targets=y_val, name=\"green_tripdata_2025-02\")"
   ]
  },
  {
   "cell_type": "code",
   "execution_count": 8,
   "id": "69d97d57",
   "metadata": {},
   "outputs": [],
   "source": [
    "import math\n",
    "import optuna\n",
    "import pathlib\n",
    "import xgboost as xgb\n",
    "from optuna.samplers import TPESampler\n",
    "from mlflow.models.signature import infer_signature"
   ]
  },
  {
   "cell_type": "code",
   "execution_count": 9,
   "id": "3abd89b1",
   "metadata": {},
   "outputs": [],
   "source": [
    "train = xgb.DMatrix(X_train, label=y_train)\n",
    "valid = xgb.DMatrix(X_val, label=y_val)"
   ]
  },
  {
   "cell_type": "markdown",
   "id": "9461172e",
   "metadata": {},
   "source": [
    "Función Objetivo"
   ]
  },
  {
   "cell_type": "code",
   "execution_count": 10,
   "id": "59fa5c30",
   "metadata": {},
   "outputs": [],
   "source": [
    "# ------------------------------------------------------------\n",
    "# Definir la función objetivo para Optuna\n",
    "#    - Recibe un `trial`, que se usa para proponer hiperparámetros.\n",
    "#    - Entrena un modelo con esos hiperparámetros.\n",
    "#    - Calcula la métrica de validación (RMSE) y la retorna (Optuna la minimizará).\n",
    "#    - Abrimos un run anidado de MLflow para registrar cada trial.\n",
    "# ------------------------------------------------------------\n",
    "def objective(trial: optuna.trial.Trial):\n",
    "    # Hiperparámetros MUESTREADOS por Optuna en CADA trial.\n",
    "    # Nota: usamos log=True para emular rangos log-uniformes (similar a loguniform).\n",
    "    params = {\n",
    "        \"max_depth\": trial.suggest_int(\"max_depth\", 4, 100),\n",
    "        \"learning_rate\": trial.suggest_float(\"learning_rate\", math.exp(-3), 1.0, log=True),\n",
    "        \"reg_alpha\": trial.suggest_float(\"reg_alpha\",   math.exp(-5), math.exp(-1), log=True),\n",
    "        \"reg_lambda\": trial.suggest_float(\"reg_lambda\", math.exp(-6), math.exp(-1), log=True),\n",
    "        \"min_child_weight\": trial.suggest_float(\"min_child_weight\", math.exp(-1), math.exp(3), log=True),\n",
    "        \"objective\": \"reg:squarederror\",  \n",
    "        \"seed\": 42,                      \n",
    "    }\n",
    "\n",
    "    # Run anidado para dejar rastro de cada trial en MLflow\n",
    "    with mlflow.start_run(nested=True):\n",
    "        mlflow.set_tag(\"model_family\", \"xgboost\")  # etiqueta informativa\n",
    "        mlflow.log_params(params)                  # registra hiperparámetros del trial\n",
    "\n",
    "        # Entrenamiento con early stopping en el conjunto de validación\n",
    "        booster = xgb.train(\n",
    "            params=params,\n",
    "            dtrain=train,\n",
    "            num_boost_round=100,\n",
    "            evals=[(valid, \"validation\")],\n",
    "            early_stopping_rounds=10,\n",
    "        )\n",
    "\n",
    "        # Predicción y métrica en validación\n",
    "        y_pred = booster.predict(valid)\n",
    "        rmse = root_mean_squared_error(y_val, y_pred)\n",
    "\n",
    "        # Registrar la métrica principal\n",
    "        mlflow.log_metric(\"rmse\", rmse)\n",
    "\n",
    "        # La \"signature\" describe la estructura esperada de entrada y salida del modelo:\n",
    "        # incluye los nombres, tipos y forma (shape) de las variables de entrada y el tipo de salida.\n",
    "        # MLflow la usa para validar datos en inferencia y documentar el modelo en el Model Registry.\n",
    "        signature = infer_signature(X_val, y_pred)\n",
    "\n",
    "        # Guardar el modelo del trial como artefacto en MLflow.\n",
    "        mlflow.xgboost.log_model(\n",
    "            booster,\n",
    "            name=\"model\",\n",
    "            input_example=X_val[:5],\n",
    "            signature=signature\n",
    "        )\n",
    "\n",
    "    # Optuna minimiza el valor retornado\n",
    "    return rmse"
   ]
  },
  {
   "cell_type": "markdown",
   "id": "b8b4b31b",
   "metadata": {},
   "source": [
    "Flujo de búsqueda"
   ]
  },
  {
   "cell_type": "code",
   "execution_count": 11,
   "id": "6495c194",
   "metadata": {},
   "outputs": [
    {
     "name": "stderr",
     "output_type": "stream",
     "text": [
      "[I 2025-10-23 21:01:36,645] A new study created in memory with name: no-name-f49a7a2b-0894-49db-aee1-1df8edf5e488\n"
     ]
    },
    {
     "name": "stdout",
     "output_type": "stream",
     "text": [
      "[0]\tvalidation-rmse:5.72427\n",
      "[1]\tvalidation-rmse:5.57860\n",
      "[2]\tvalidation-rmse:5.56409\n",
      "[3]\tvalidation-rmse:5.56982\n",
      "[4]\tvalidation-rmse:5.57347\n",
      "[5]\tvalidation-rmse:5.55585\n",
      "[6]\tvalidation-rmse:5.55736\n",
      "[7]\tvalidation-rmse:5.55253\n",
      "[8]\tvalidation-rmse:5.55232\n",
      "[9]\tvalidation-rmse:5.53322\n",
      "[10]\tvalidation-rmse:5.53156\n",
      "[11]\tvalidation-rmse:5.53006\n",
      "[12]\tvalidation-rmse:5.52808\n",
      "[13]\tvalidation-rmse:5.52782\n",
      "[14]\tvalidation-rmse:5.52451\n",
      "[15]\tvalidation-rmse:5.52324\n",
      "[16]\tvalidation-rmse:5.52269\n",
      "[17]\tvalidation-rmse:5.52229\n",
      "[18]\tvalidation-rmse:5.52366\n",
      "[19]\tvalidation-rmse:5.52900\n",
      "[20]\tvalidation-rmse:5.52988\n",
      "[21]\tvalidation-rmse:5.52969\n",
      "[22]\tvalidation-rmse:5.52872\n",
      "[23]\tvalidation-rmse:5.53195\n",
      "[24]\tvalidation-rmse:5.52894\n",
      "[25]\tvalidation-rmse:5.52702\n",
      "[26]\tvalidation-rmse:5.53066\n"
     ]
    },
    {
     "name": "stderr",
     "output_type": "stream",
     "text": [
      "/Users/isabelvalladolid/Documents/ProyectoCienciaDatos/nyc-taxi-predictions-2025/.venv/lib/python3.11/site-packages/mlflow/xgboost/__init__.py:169: UserWarning: [21:01:44] WARNING: /Users/runner/work/xgboost/xgboost/src/c_api/c_api.cc:1575: Saving model in the UBJSON format as default.  You can use a file extension: `json` or `ubj` to choose between formats.\n",
      "  xgb_model.save_model(model_data_path)\n",
      "2025/10/23 21:01:45 WARNING mlflow.utils.environment: Failed to resolve installed pip version. ``pip`` will be added to conda.yaml environment spec without a version specifier.\n",
      "/Users/isabelvalladolid/Documents/ProyectoCienciaDatos/nyc-taxi-predictions-2025/.venv/lib/python3.11/site-packages/mlflow/xgboost/__init__.py:321: UserWarning: [21:01:45] WARNING: /Users/runner/work/xgboost/xgboost/src/c_api/c_api.cc:1511: Unknown file format: `xgb`. Using UBJSON (`ubj`) as a guess.\n",
      "  model.load_model(xgb_model_path)\n",
      "2025/10/23 21:01:45 INFO mlflow.models.model: Found the following environment variables used during model inference: [DATABRICKS_HOST, DATABRICKS_TOKEN]. Please check if you need to set them when deploying the model. To disable this message, set environment variable `MLFLOW_RECORD_ENV_VARS_IN_MODEL_LOGGING` to `false`.\n",
      "[I 2025-10-23 21:01:47,049] Trial 0 finished with value: 5.5334711429183985 and parameters: {'max_depth': 40, 'learning_rate': 0.8625543817410922, 'reg_alpha': 0.12593061066249622, 'reg_lambda': 0.049454235173237264, 'min_child_weight': 0.6866535292359801}. Best is trial 0 with value: 5.5334711429183985.\n"
     ]
    },
    {
     "name": "stdout",
     "output_type": "stream",
     "text": [
      "🏃 View run grandiose-doe-909 at: https://dbc-00d2933e-633b.cloud.databricks.com/ml/experiments/1858882611825285/runs/6138ed98b33e4c27ada61798e167248a\n",
      "🧪 View experiment at: https://dbc-00d2933e-633b.cloud.databricks.com/ml/experiments/1858882611825285\n",
      "[0]\tvalidation-rmse:8.77707\n",
      "[1]\tvalidation-rmse:8.47452\n",
      "[2]\tvalidation-rmse:8.19669\n",
      "[3]\tvalidation-rmse:7.94182\n",
      "[4]\tvalidation-rmse:7.70901\n",
      "[5]\tvalidation-rmse:7.49664\n",
      "[6]\tvalidation-rmse:7.30245\n",
      "[7]\tvalidation-rmse:7.12626\n",
      "[8]\tvalidation-rmse:6.96581\n",
      "[9]\tvalidation-rmse:6.81994\n",
      "[10]\tvalidation-rmse:6.68775\n",
      "[11]\tvalidation-rmse:6.56832\n",
      "[12]\tvalidation-rmse:6.46039\n",
      "[13]\tvalidation-rmse:6.36272\n",
      "[14]\tvalidation-rmse:6.27449\n",
      "[15]\tvalidation-rmse:6.19394\n",
      "[16]\tvalidation-rmse:6.12203\n",
      "[17]\tvalidation-rmse:6.05669\n",
      "[18]\tvalidation-rmse:5.99838\n",
      "[19]\tvalidation-rmse:5.94487\n",
      "[20]\tvalidation-rmse:5.89709\n",
      "[21]\tvalidation-rmse:5.85472\n",
      "[22]\tvalidation-rmse:5.81565\n",
      "[23]\tvalidation-rmse:5.78117\n",
      "[24]\tvalidation-rmse:5.74956\n",
      "[25]\tvalidation-rmse:5.72125\n",
      "[26]\tvalidation-rmse:5.69577\n",
      "[27]\tvalidation-rmse:5.67283\n",
      "[28]\tvalidation-rmse:5.65235\n",
      "[29]\tvalidation-rmse:5.63408\n",
      "[30]\tvalidation-rmse:5.61693\n",
      "[31]\tvalidation-rmse:5.60146\n",
      "[32]\tvalidation-rmse:5.58729\n",
      "[33]\tvalidation-rmse:5.57488\n",
      "[34]\tvalidation-rmse:5.56325\n",
      "[35]\tvalidation-rmse:5.55263\n",
      "[36]\tvalidation-rmse:5.54270\n",
      "[37]\tvalidation-rmse:5.53408\n",
      "[38]\tvalidation-rmse:5.52628\n",
      "[39]\tvalidation-rmse:5.51936\n",
      "[40]\tvalidation-rmse:5.51300\n",
      "[41]\tvalidation-rmse:5.50724\n",
      "[42]\tvalidation-rmse:5.50206\n",
      "[43]\tvalidation-rmse:5.49720\n",
      "[44]\tvalidation-rmse:5.49290\n",
      "[45]\tvalidation-rmse:5.48778\n",
      "[46]\tvalidation-rmse:5.48302\n",
      "[47]\tvalidation-rmse:5.47966\n",
      "[48]\tvalidation-rmse:5.47615\n",
      "[49]\tvalidation-rmse:5.47273\n",
      "[50]\tvalidation-rmse:5.46948\n",
      "[51]\tvalidation-rmse:5.46665\n",
      "[52]\tvalidation-rmse:5.46376\n",
      "[53]\tvalidation-rmse:5.46097\n",
      "[54]\tvalidation-rmse:5.45798\n",
      "[55]\tvalidation-rmse:5.45555\n",
      "[56]\tvalidation-rmse:5.45318\n",
      "[57]\tvalidation-rmse:5.45135\n",
      "[58]\tvalidation-rmse:5.44924\n",
      "[59]\tvalidation-rmse:5.44741\n",
      "[60]\tvalidation-rmse:5.44562\n",
      "[61]\tvalidation-rmse:5.44381\n",
      "[62]\tvalidation-rmse:5.44180\n",
      "[63]\tvalidation-rmse:5.44045\n",
      "[64]\tvalidation-rmse:5.43890\n",
      "[65]\tvalidation-rmse:5.43726\n",
      "[66]\tvalidation-rmse:5.43582\n",
      "[67]\tvalidation-rmse:5.43406\n",
      "[68]\tvalidation-rmse:5.43276\n",
      "[69]\tvalidation-rmse:5.43133\n",
      "[70]\tvalidation-rmse:5.42980\n",
      "[71]\tvalidation-rmse:5.42863\n",
      "[72]\tvalidation-rmse:5.42767\n",
      "[73]\tvalidation-rmse:5.42662\n",
      "[74]\tvalidation-rmse:5.42539\n",
      "[75]\tvalidation-rmse:5.42446\n",
      "[76]\tvalidation-rmse:5.42354\n",
      "[77]\tvalidation-rmse:5.42277\n",
      "[78]\tvalidation-rmse:5.42186\n",
      "[79]\tvalidation-rmse:5.42073\n",
      "[80]\tvalidation-rmse:5.41997\n",
      "[81]\tvalidation-rmse:5.41925\n",
      "[82]\tvalidation-rmse:5.41869\n",
      "[83]\tvalidation-rmse:5.41820\n",
      "[84]\tvalidation-rmse:5.41779\n",
      "[85]\tvalidation-rmse:5.41744\n",
      "[86]\tvalidation-rmse:5.41645\n",
      "[87]\tvalidation-rmse:5.41604\n",
      "[88]\tvalidation-rmse:5.41559\n",
      "[89]\tvalidation-rmse:5.41496\n",
      "[90]\tvalidation-rmse:5.41472\n",
      "[91]\tvalidation-rmse:5.41366\n",
      "[92]\tvalidation-rmse:5.41342\n",
      "[93]\tvalidation-rmse:5.41291\n",
      "[94]\tvalidation-rmse:5.41249\n",
      "[95]\tvalidation-rmse:5.41207\n",
      "[96]\tvalidation-rmse:5.41184\n",
      "[97]\tvalidation-rmse:5.41099\n",
      "[98]\tvalidation-rmse:5.41068\n",
      "[99]\tvalidation-rmse:5.41046\n"
     ]
    },
    {
     "name": "stderr",
     "output_type": "stream",
     "text": [
      "/Users/isabelvalladolid/Documents/ProyectoCienciaDatos/nyc-taxi-predictions-2025/.venv/lib/python3.11/site-packages/mlflow/xgboost/__init__.py:169: UserWarning: [21:01:53] WARNING: /Users/runner/work/xgboost/xgboost/src/c_api/c_api.cc:1575: Saving model in the UBJSON format as default.  You can use a file extension: `json` or `ubj` to choose between formats.\n",
      "  xgb_model.save_model(model_data_path)\n",
      "2025/10/23 21:01:54 WARNING mlflow.utils.environment: Failed to resolve installed pip version. ``pip`` will be added to conda.yaml environment spec without a version specifier.\n",
      "/Users/isabelvalladolid/Documents/ProyectoCienciaDatos/nyc-taxi-predictions-2025/.venv/lib/python3.11/site-packages/mlflow/xgboost/__init__.py:321: UserWarning: [21:01:54] WARNING: /Users/runner/work/xgboost/xgboost/src/c_api/c_api.cc:1511: Unknown file format: `xgb`. Using UBJSON (`ubj`) as a guess.\n",
      "  model.load_model(xgb_model_path)\n",
      "[I 2025-10-23 21:01:55,977] Trial 1 finished with value: 5.410463874732254 and parameters: {'max_depth': 19, 'learning_rate': 0.059264241587996896, 'reg_alpha': 0.21539205131792016, 'reg_lambda': 0.05006540936006931, 'min_child_weight': 6.248180561354165}. Best is trial 1 with value: 5.410463874732254.\n"
     ]
    },
    {
     "name": "stdout",
     "output_type": "stream",
     "text": [
      "🏃 View run abundant-goose-374 at: https://dbc-00d2933e-633b.cloud.databricks.com/ml/experiments/1858882611825285/runs/4da81d8531784e338eb8e7b23047c809\n",
      "🧪 View experiment at: https://dbc-00d2933e-633b.cloud.databricks.com/ml/experiments/1858882611825285\n",
      "[0]\tvalidation-rmse:5.85130\n",
      "[1]\tvalidation-rmse:5.74043\n",
      "[2]\tvalidation-rmse:5.72146\n",
      "[3]\tvalidation-rmse:5.71927\n",
      "[4]\tvalidation-rmse:5.70906\n",
      "[5]\tvalidation-rmse:5.70183\n",
      "[6]\tvalidation-rmse:5.68997\n",
      "[7]\tvalidation-rmse:5.67941\n",
      "[8]\tvalidation-rmse:5.67714\n",
      "[9]\tvalidation-rmse:5.67594\n",
      "[10]\tvalidation-rmse:5.67850\n",
      "[11]\tvalidation-rmse:5.67582\n",
      "[12]\tvalidation-rmse:5.67678\n",
      "[13]\tvalidation-rmse:5.66184\n",
      "[14]\tvalidation-rmse:5.65662\n",
      "[15]\tvalidation-rmse:5.65596\n",
      "[16]\tvalidation-rmse:5.65571\n",
      "[17]\tvalidation-rmse:5.65327\n",
      "[18]\tvalidation-rmse:5.64906\n",
      "[19]\tvalidation-rmse:5.65130\n",
      "[20]\tvalidation-rmse:5.64476\n",
      "[21]\tvalidation-rmse:5.64460\n",
      "[22]\tvalidation-rmse:5.64547\n",
      "[23]\tvalidation-rmse:5.64525\n",
      "[24]\tvalidation-rmse:5.64959\n",
      "[25]\tvalidation-rmse:5.64695\n",
      "[26]\tvalidation-rmse:5.64961\n",
      "[27]\tvalidation-rmse:5.64846\n",
      "[28]\tvalidation-rmse:5.64693\n",
      "[29]\tvalidation-rmse:5.64620\n",
      "[30]\tvalidation-rmse:5.64611\n",
      "[31]\tvalidation-rmse:5.64165\n",
      "[32]\tvalidation-rmse:5.63904\n",
      "[33]\tvalidation-rmse:5.63700\n",
      "[34]\tvalidation-rmse:5.63538\n",
      "[35]\tvalidation-rmse:5.63521\n",
      "[36]\tvalidation-rmse:5.63364\n",
      "[37]\tvalidation-rmse:5.62648\n",
      "[38]\tvalidation-rmse:5.62545\n",
      "[39]\tvalidation-rmse:5.62409\n",
      "[40]\tvalidation-rmse:5.62623\n",
      "[41]\tvalidation-rmse:5.62538\n",
      "[42]\tvalidation-rmse:5.62733\n",
      "[43]\tvalidation-rmse:5.62495\n",
      "[44]\tvalidation-rmse:5.62397\n",
      "[45]\tvalidation-rmse:5.62164\n",
      "[46]\tvalidation-rmse:5.62151\n",
      "[47]\tvalidation-rmse:5.62392\n",
      "[48]\tvalidation-rmse:5.62211\n",
      "[49]\tvalidation-rmse:5.62041\n",
      "[50]\tvalidation-rmse:5.61781\n",
      "[51]\tvalidation-rmse:5.61665\n",
      "[52]\tvalidation-rmse:5.61675\n",
      "[53]\tvalidation-rmse:5.61633\n",
      "[54]\tvalidation-rmse:5.61780\n",
      "[55]\tvalidation-rmse:5.61417\n",
      "[56]\tvalidation-rmse:5.61373\n",
      "[57]\tvalidation-rmse:5.61372\n",
      "[58]\tvalidation-rmse:5.61248\n",
      "[59]\tvalidation-rmse:5.61534\n",
      "[60]\tvalidation-rmse:5.61427\n",
      "[61]\tvalidation-rmse:5.61079\n",
      "[62]\tvalidation-rmse:5.61207\n",
      "[63]\tvalidation-rmse:5.61336\n",
      "[64]\tvalidation-rmse:5.61189\n",
      "[65]\tvalidation-rmse:5.61003\n",
      "[66]\tvalidation-rmse:5.60880\n",
      "[67]\tvalidation-rmse:5.60741\n",
      "[68]\tvalidation-rmse:5.60922\n",
      "[69]\tvalidation-rmse:5.60743\n",
      "[70]\tvalidation-rmse:5.60675\n",
      "[71]\tvalidation-rmse:5.60409\n",
      "[72]\tvalidation-rmse:5.60525\n",
      "[73]\tvalidation-rmse:5.60425\n",
      "[74]\tvalidation-rmse:5.60278\n",
      "[75]\tvalidation-rmse:5.60017\n",
      "[76]\tvalidation-rmse:5.59910\n",
      "[77]\tvalidation-rmse:5.59922\n",
      "[78]\tvalidation-rmse:5.60561\n",
      "[79]\tvalidation-rmse:5.60515\n",
      "[80]\tvalidation-rmse:5.60398\n",
      "[81]\tvalidation-rmse:5.60401\n",
      "[82]\tvalidation-rmse:5.60174\n",
      "[83]\tvalidation-rmse:5.60966\n",
      "[84]\tvalidation-rmse:5.61009\n",
      "[85]\tvalidation-rmse:5.61018\n"
     ]
    },
    {
     "name": "stderr",
     "output_type": "stream",
     "text": [
      "/Users/isabelvalladolid/Documents/ProyectoCienciaDatos/nyc-taxi-predictions-2025/.venv/lib/python3.11/site-packages/mlflow/xgboost/__init__.py:169: UserWarning: [21:02:00] WARNING: /Users/runner/work/xgboost/xgboost/src/c_api/c_api.cc:1575: Saving model in the UBJSON format as default.  You can use a file extension: `json` or `ubj` to choose between formats.\n",
      "  xgb_model.save_model(model_data_path)\n",
      "2025/10/23 21:02:02 WARNING mlflow.utils.environment: Failed to resolve installed pip version. ``pip`` will be added to conda.yaml environment spec without a version specifier.\n",
      "/Users/isabelvalladolid/Documents/ProyectoCienciaDatos/nyc-taxi-predictions-2025/.venv/lib/python3.11/site-packages/mlflow/xgboost/__init__.py:321: UserWarning: [21:02:02] WARNING: /Users/runner/work/xgboost/xgboost/src/c_api/c_api.cc:1511: Unknown file format: `xgb`. Using UBJSON (`ubj`) as a guess.\n",
      "  model.load_model(xgb_model_path)\n",
      "[I 2025-10-23 21:02:03,453] Trial 2 finished with value: 5.609300918544036 and parameters: {'max_depth': 5, 'learning_rate': 0.9136840519292246, 'reg_alpha': 0.18820387978911576, 'reg_lambda': 0.007166739666045858, 'min_child_weight': 0.7613210498541186}. Best is trial 1 with value: 5.410463874732254.\n"
     ]
    },
    {
     "name": "stdout",
     "output_type": "stream",
     "text": [
      "🏃 View run upset-foal-324 at: https://dbc-00d2933e-633b.cloud.databricks.com/ml/experiments/1858882611825285/runs/32d3be3229d144fd983997fc33807487\n",
      "🧪 View experiment at: https://dbc-00d2933e-633b.cloud.databricks.com/ml/experiments/1858882611825285\n",
      "[0]\tvalidation-rmse:8.77707\n",
      "[1]\tvalidation-rmse:8.47452\n",
      "[2]\tvalidation-rmse:8.19669\n",
      "[3]\tvalidation-rmse:7.94182\n",
      "[4]\tvalidation-rmse:7.70901\n",
      "[5]\tvalidation-rmse:7.49664\n",
      "[6]\tvalidation-rmse:7.30245\n",
      "[7]\tvalidation-rmse:7.12626\n",
      "[8]\tvalidation-rmse:6.96581\n",
      "[9]\tvalidation-rmse:6.81994\n",
      "[10]\tvalidation-rmse:6.68775\n",
      "[11]\tvalidation-rmse:6.56832\n",
      "[12]\tvalidation-rmse:6.46039\n",
      "[13]\tvalidation-rmse:6.36272\n",
      "[14]\tvalidation-rmse:6.27449\n",
      "[15]\tvalidation-rmse:6.19394\n",
      "[16]\tvalidation-rmse:6.12203\n",
      "[17]\tvalidation-rmse:6.05669\n",
      "[18]\tvalidation-rmse:5.99838\n",
      "[19]\tvalidation-rmse:5.94487\n",
      "[20]\tvalidation-rmse:5.89709\n",
      "[21]\tvalidation-rmse:5.85472\n",
      "[22]\tvalidation-rmse:5.81565\n",
      "[23]\tvalidation-rmse:5.78117\n",
      "[24]\tvalidation-rmse:5.74956\n",
      "[25]\tvalidation-rmse:5.72125\n",
      "[26]\tvalidation-rmse:5.69577\n",
      "[27]\tvalidation-rmse:5.67283\n",
      "[28]\tvalidation-rmse:5.65235\n",
      "[29]\tvalidation-rmse:5.63408\n",
      "[30]\tvalidation-rmse:5.61693\n",
      "[31]\tvalidation-rmse:5.60146\n",
      "[32]\tvalidation-rmse:5.58729\n",
      "[33]\tvalidation-rmse:5.57488\n",
      "[34]\tvalidation-rmse:5.56325\n",
      "[35]\tvalidation-rmse:5.55263\n",
      "[36]\tvalidation-rmse:5.54270\n",
      "[37]\tvalidation-rmse:5.53408\n",
      "[38]\tvalidation-rmse:5.52628\n",
      "[39]\tvalidation-rmse:5.51936\n",
      "[40]\tvalidation-rmse:5.51300\n",
      "[41]\tvalidation-rmse:5.50724\n",
      "[42]\tvalidation-rmse:5.50206\n",
      "[43]\tvalidation-rmse:5.49720\n",
      "[44]\tvalidation-rmse:5.49290\n",
      "[45]\tvalidation-rmse:5.48778\n",
      "[46]\tvalidation-rmse:5.48302\n",
      "[47]\tvalidation-rmse:5.47966\n",
      "[48]\tvalidation-rmse:5.47615\n",
      "[49]\tvalidation-rmse:5.47273\n",
      "[50]\tvalidation-rmse:5.46948\n",
      "[51]\tvalidation-rmse:5.46665\n",
      "[52]\tvalidation-rmse:5.46376\n",
      "[53]\tvalidation-rmse:5.46097\n",
      "[54]\tvalidation-rmse:5.45798\n",
      "[55]\tvalidation-rmse:5.45555\n",
      "[56]\tvalidation-rmse:5.45318\n",
      "[57]\tvalidation-rmse:5.45135\n",
      "[58]\tvalidation-rmse:5.44924\n",
      "[59]\tvalidation-rmse:5.44741\n",
      "[60]\tvalidation-rmse:5.44562\n",
      "[61]\tvalidation-rmse:5.44381\n",
      "[62]\tvalidation-rmse:5.44180\n",
      "[63]\tvalidation-rmse:5.44045\n",
      "[64]\tvalidation-rmse:5.43890\n",
      "[65]\tvalidation-rmse:5.43726\n",
      "[66]\tvalidation-rmse:5.43582\n",
      "[67]\tvalidation-rmse:5.43406\n",
      "[68]\tvalidation-rmse:5.43276\n",
      "[69]\tvalidation-rmse:5.43133\n",
      "[70]\tvalidation-rmse:5.42980\n",
      "[71]\tvalidation-rmse:5.42863\n",
      "[72]\tvalidation-rmse:5.42767\n",
      "[73]\tvalidation-rmse:5.42662\n",
      "[74]\tvalidation-rmse:5.42539\n",
      "[75]\tvalidation-rmse:5.42446\n",
      "[76]\tvalidation-rmse:5.42354\n",
      "[77]\tvalidation-rmse:5.42277\n",
      "[78]\tvalidation-rmse:5.42186\n",
      "[79]\tvalidation-rmse:5.42073\n",
      "[80]\tvalidation-rmse:5.41997\n",
      "[81]\tvalidation-rmse:5.41925\n",
      "[82]\tvalidation-rmse:5.41869\n",
      "[83]\tvalidation-rmse:5.41820\n",
      "[84]\tvalidation-rmse:5.41779\n",
      "[85]\tvalidation-rmse:5.41744\n",
      "[86]\tvalidation-rmse:5.41645\n",
      "[87]\tvalidation-rmse:5.41604\n",
      "[88]\tvalidation-rmse:5.41559\n",
      "[89]\tvalidation-rmse:5.41496\n",
      "[90]\tvalidation-rmse:5.41472\n",
      "[91]\tvalidation-rmse:5.41366\n",
      "[92]\tvalidation-rmse:5.41342\n",
      "[93]\tvalidation-rmse:5.41291\n",
      "[94]\tvalidation-rmse:5.41249\n",
      "[95]\tvalidation-rmse:5.41207\n",
      "[96]\tvalidation-rmse:5.41184\n",
      "[97]\tvalidation-rmse:5.41099\n",
      "[98]\tvalidation-rmse:5.41068\n",
      "[99]\tvalidation-rmse:5.41046\n"
     ]
    },
    {
     "name": "stderr",
     "output_type": "stream",
     "text": [
      "/Users/isabelvalladolid/Documents/ProyectoCienciaDatos/nyc-taxi-predictions-2025/.venv/lib/python3.11/site-packages/mlflow/xgboost/__init__.py:169: UserWarning: [21:02:09] WARNING: /Users/runner/work/xgboost/xgboost/src/c_api/c_api.cc:1575: Saving model in the UBJSON format as default.  You can use a file extension: `json` or `ubj` to choose between formats.\n",
      "  xgb_model.save_model(model_data_path)\n",
      "2025/10/23 21:02:11 WARNING mlflow.utils.environment: Failed to resolve installed pip version. ``pip`` will be added to conda.yaml environment spec without a version specifier.\n",
      "/Users/isabelvalladolid/Documents/ProyectoCienciaDatos/nyc-taxi-predictions-2025/.venv/lib/python3.11/site-packages/mlflow/xgboost/__init__.py:321: UserWarning: [21:02:11] WARNING: /Users/runner/work/xgboost/xgboost/src/c_api/c_api.cc:1511: Unknown file format: `xgb`. Using UBJSON (`ubj`) as a guess.\n",
      "  model.load_model(xgb_model_path)\n"
     ]
    },
    {
     "name": "stdout",
     "output_type": "stream",
     "text": [
      "🏃 View run XGBoost Hyperparameter Optimization (Optuna) at: https://dbc-00d2933e-633b.cloud.databricks.com/ml/experiments/1858882611825285/runs/b829e87d69d6419288e64231d1248ea6\n",
      "🧪 View experiment at: https://dbc-00d2933e-633b.cloud.databricks.com/ml/experiments/1858882611825285\n"
     ]
    }
   ],
   "source": [
    "mlflow.xgboost.autolog(log_models=False)\n",
    "\n",
    "# ------------------------------------------------------------\n",
    "# Crear el estudio de Optuna\n",
    "#    - Usamos TPE (Tree-structured Parzen Estimator) como sampler.\n",
    "#    - direction=\"minimize\" porque queremos minimizar el RMSE.\n",
    "# ------------------------------------------------------------\n",
    "sampler = TPESampler(seed=42)\n",
    "study = optuna.create_study(direction=\"minimize\", sampler=sampler)\n",
    "\n",
    "# ------------------------------------------------------------\n",
    "# Ejecutar la optimización (n_trials = número de intentos)\n",
    "#    - Cada trial ejecuta la función objetivo con un set distinto de hiperparámetros.\n",
    "#    - Abrimos un run \"padre\" para agrupar toda la búsqueda.\n",
    "# ------------------------------------------------------------\n",
    "with mlflow.start_run(run_name=\"XGBoost Hyperparameter Optimization (Optuna)\", nested=True):\n",
    "    study.optimize(objective, n_trials=3)\n",
    "\n",
    "    # --------------------------------------------------------\n",
    "    # Recuperar y registrar los mejores hiperparámetros\n",
    "    # --------------------------------------------------------\n",
    "    best_params = study.best_params\n",
    "    # Asegurar tipos/campos fijos (por claridad y consistencia)\n",
    "    best_params[\"max_depth\"] = int(best_params[\"max_depth\"])\n",
    "    best_params[\"seed\"] = 42\n",
    "    best_params[\"objective\"] = \"reg:squarederror\"\n",
    "\n",
    "    mlflow.log_params(best_params)\n",
    "\n",
    "    # Etiquetas del run \"padre\" (metadatos del experimento)\n",
    "    mlflow.set_tags({\n",
    "        \"project\": \"NYC Taxi Time Prediction Project\",\n",
    "        \"optimizer_engine\": \"optuna\",\n",
    "        \"model_family\": \"xgboost\",\n",
    "        \"feature_set_version\": 1,\n",
    "    })\n",
    "\n",
    "    # --------------------------------------------------------\n",
    "    # 7) Entrenar un modelo FINAL con los mejores hiperparámetros\n",
    "    #    (normalmente se haría sobre train+val o con CV; aquí mantenemos el patrón original)\n",
    "    # --------------------------------------------------------\n",
    "    booster = xgb.train(\n",
    "        params=best_params,\n",
    "        dtrain=train,\n",
    "        num_boost_round=100,\n",
    "        evals=[(valid, \"validation\")],\n",
    "        early_stopping_rounds=10,\n",
    "    )\n",
    "\n",
    "    # Evaluar y registrar la métrica final en validación\n",
    "    y_pred = booster.predict(valid)\n",
    "    rmse = root_mean_squared_error(y_val, y_pred)\n",
    "    mlflow.log_metric(\"rmse\", rmse)\n",
    "\n",
    "    # --------------------------------------------------------\n",
    "    # 8) Guardar artefactos adicionales (p. ej. el preprocesador)\n",
    "    # --------------------------------------------------------\n",
    "    pathlib.Path(\"preprocessor\").mkdir(exist_ok=True)\n",
    "    with open(\"preprocessor/preprocessor.b\", \"wb\") as f_out:\n",
    "        pickle.dump(dv, f_out)\n",
    "\n",
    "    mlflow.log_artifact(\"preprocessor/preprocessor.b\", artifact_path=\"preprocessor\")\n",
    "\n",
    "    # La \"signature\" describe la estructura esperada de entrada y salida del modelo:\n",
    "    # incluye los nombres, tipos y forma (shape) de las variables de entrada y el tipo de salida.\n",
    "    # MLflow la usa para validar datos en inferencia y documentar el modelo en el Model Registry.\n",
    "    # Si X_val es la matriz dispersa (scipy.sparse) salida de DictVectorizer:\n",
    "    feature_names = dv.get_feature_names_out()\n",
    "    input_example = pd.DataFrame(X_val[:5].toarray(), columns=feature_names)\n",
    "\n",
    "    # Para que las longitudes coincidan, usa el mismo slice en y_pred\n",
    "    signature = infer_signature(input_example, y_val[:5])\n",
    "\n",
    "    # Guardar el modelo del trial como artefacto en MLflow.\n",
    "    mlflow.xgboost.log_model(\n",
    "        booster,\n",
    "        name=\"model\",\n",
    "        input_example=input_example,\n",
    "        signature=signature\n",
    "    )"
   ]
  },
  {
   "cell_type": "markdown",
   "id": "29796104",
   "metadata": {},
   "source": [
    "Registrar modelo en Model Registry"
   ]
  },
  {
   "cell_type": "code",
   "execution_count": 12,
   "id": "cbae21da",
   "metadata": {},
   "outputs": [],
   "source": [
    "bmodel_name = \"workspace.default.nyc-taxi-model\""
   ]
  },
  {
   "cell_type": "code",
   "execution_count": 13,
   "id": "963aab89",
   "metadata": {},
   "outputs": [
    {
     "name": "stderr",
     "output_type": "stream",
     "text": [
      "Registered model 'workspace.default.nyc-taxi-model' already exists. Creating a new version of this model...\n",
      "2025/10/23 21:02:17 WARNING mlflow.tracking._model_registry.fluent: Run with id 28e7fdcee5694a8bbb985c93b81dc762 has no artifacts at artifact path 'model', registering model based on models:/m-ed882239524f4fc7a11648b3dbdbcc36 instead\n"
     ]
    },
    {
     "data": {
      "application/vnd.jupyter.widget-view+json": {
       "model_id": "1432f3242bef4fe68c706729350a4533",
       "version_major": 2,
       "version_minor": 0
      },
      "text/plain": [
       "Downloading artifacts:   0%|          | 0/7 [00:00<?, ?it/s]"
      ]
     },
     "metadata": {},
     "output_type": "display_data"
    },
    {
     "data": {
      "application/vnd.jupyter.widget-view+json": {
       "model_id": "aaa169418db8431cb15bfe80ea7cc0a3",
       "version_major": 2,
       "version_minor": 0
      },
      "text/plain": [
       "Uploading artifacts:   0%|          | 0/8 [00:00<?, ?it/s]"
      ]
     },
     "metadata": {},
     "output_type": "display_data"
    },
    {
     "name": "stderr",
     "output_type": "stream",
     "text": [
      "Created version '3' of model 'workspace.default.nyc-taxi-model'.\n"
     ]
    }
   ],
   "source": [
    "run_id = input(\"Ingrese el run_id\")\n",
    "run_uri = f\"runs:/{run_id}/model\"\n",
    "\n",
    "result = mlflow.register_model(\n",
    "    model_uri=run_uri,\n",
    "    name=\"workspace.default.nyc-taxi-model\"\n",
    ")"
   ]
  },
  {
   "cell_type": "code",
   "execution_count": 14,
   "id": "73078570",
   "metadata": {},
   "outputs": [
    {
     "name": "stdout",
     "output_type": "stream",
     "text": [
      "🏆 Champion Run encontrado:\n",
      "Run ID: 4da81d8531784e338eb8e7b23047c809\n",
      "RMSE: 5.410463874732254\n",
      "Params: {'custom_metric': 'None', 'early_stopping_rounds': '10', 'learning_rate': '0.059264241587996896', 'max_depth': '19', 'maximize': 'None', 'min_child_weight': '6.248180561354165', 'num_boost_round': '100', 'objective': 'reg:squarederror', 'reg_alpha': '0.21539205131792016', 'reg_lambda': '0.05006540936006931', 'seed': '42', 'verbose_eval': 'True'}\n"
     ]
    }
   ],
   "source": [
    "runs = mlflow.search_runs(\n",
    "    experiment_names=[EXPERIMENT_NAME],\n",
    "    order_by=[\"metrics.rmse ASC\"],\n",
    "    output_format=\"list\"\n",
    ")\n",
    "\n",
    "# Obtener el mejor run\n",
    "if len(runs) > 0:\n",
    "    best_run = runs[0]\n",
    "    print(\"🏆 Champion Run encontrado:\")\n",
    "    print(f\"Run ID: {best_run.info.run_id}\")\n",
    "    print(f\"RMSE: {best_run.data.metrics['rmse']}\")\n",
    "    print(f\"Params: {best_run.data.params}\")\n",
    "else:\n",
    "    print(\"⚠️ No se encontraron runs con métrica RMSE.\")"
   ]
  },
  {
   "cell_type": "code",
   "execution_count": 15,
   "id": "2d9fd0bc",
   "metadata": {},
   "outputs": [],
   "source": [
    "run_id = best_run.info.run_id"
   ]
  },
  {
   "cell_type": "code",
   "execution_count": 16,
   "id": "b0c0e004",
   "metadata": {},
   "outputs": [
    {
     "name": "stderr",
     "output_type": "stream",
     "text": [
      "Registered model 'workspace.default.nyc-taxi-model' already exists. Creating a new version of this model...\n",
      "2025/10/23 21:02:26 WARNING mlflow.tracking._model_registry.fluent: Run with id 4da81d8531784e338eb8e7b23047c809 has no artifacts at artifact path 'model', registering model based on models:/m-b800c8c2d5844386bdd1aa5e945f72e9 instead\n"
     ]
    },
    {
     "data": {
      "application/vnd.jupyter.widget-view+json": {
       "model_id": "49f4f08a9f154a2f8bde11b63c9b5f36",
       "version_major": 2,
       "version_minor": 0
      },
      "text/plain": [
       "Downloading artifacts:   0%|          | 0/7 [00:00<?, ?it/s]"
      ]
     },
     "metadata": {},
     "output_type": "display_data"
    },
    {
     "data": {
      "application/vnd.jupyter.widget-view+json": {
       "model_id": "66e78e1bea5e41fc94525e37d802d27a",
       "version_major": 2,
       "version_minor": 0
      },
      "text/plain": [
       "Uploading artifacts:   0%|          | 0/8 [00:00<?, ?it/s]"
      ]
     },
     "metadata": {},
     "output_type": "display_data"
    },
    {
     "name": "stderr",
     "output_type": "stream",
     "text": [
      "Created version '4' of model 'workspace.default.nyc-taxi-model'.\n"
     ]
    }
   ],
   "source": [
    "result = mlflow.register_model(\n",
    "    model_uri=f\"runs:/{best_run.info.run_id}/model\",\n",
    "    name=bmodel_name\n",
    ")"
   ]
  },
  {
   "cell_type": "markdown",
   "id": "cfb40997",
   "metadata": {},
   "source": [
    "Asignar alias"
   ]
  },
  {
   "cell_type": "code",
   "execution_count": 17,
   "id": "51a2f547",
   "metadata": {},
   "outputs": [],
   "source": [
    "from mlflow import MlflowClient\n",
    "\n",
    "client = MlflowClient()"
   ]
  },
  {
   "cell_type": "code",
   "execution_count": 18,
   "id": "badde4b9",
   "metadata": {},
   "outputs": [],
   "source": [
    "model_version = result.version\n",
    "new_alias = \"Champion\"\n",
    "\n",
    "client.set_registered_model_alias(\n",
    "    name=bmodel_name,\n",
    "    alias=new_alias,\n",
    "    version=result.version\n",
    ")"
   ]
  },
  {
   "cell_type": "code",
   "execution_count": 19,
   "id": "b96149bf",
   "metadata": {},
   "outputs": [
    {
     "data": {
      "text/plain": [
       "<ModelVersion: aliases=[], creation_timestamp=1761274949389, current_stage=None, deployment_job_state=<ModelVersionDeploymentJobState: current_task_name='', job_id='', job_state='DEPLOYMENT_JOB_CONNECTION_STATE_UNSPECIFIED', run_id='', run_state='DEPLOYMENT_JOB_RUN_STATE_UNSPECIFIED'>, description='The model version 4 was transitioned to Champion on 2025-10-23 21:02:32.949741', last_updated_timestamp=1761274953177, metrics=[<Metric: dataset_digest='', dataset_name='', key='best_iteration', model_id='m-b800c8c2d5844386bdd1aa5e945f72e9', run_id='4da81d8531784e338eb8e7b23047c809', step=0, timestamp=1761274909453, value=99.0>,\n",
       " <Metric: dataset_digest='', dataset_name='', key='rmse', model_id='m-b800c8c2d5844386bdd1aa5e945f72e9', run_id='4da81d8531784e338eb8e7b23047c809', step=0, timestamp=1761274911705, value=5.410463874732254>,\n",
       " <Metric: dataset_digest='', dataset_name='', key='stopped_iteration', model_id='m-b800c8c2d5844386bdd1aa5e945f72e9', run_id='4da81d8531784e338eb8e7b23047c809', step=0, timestamp=1761274909453, value=99.0>,\n",
       " <Metric: dataset_digest='', dataset_name='', key='validation-rmse', model_id='m-b800c8c2d5844386bdd1aa5e945f72e9', run_id='4da81d8531784e338eb8e7b23047c809', step=0, timestamp=1761274907951, value=8.77707250922426>], model_id='m-b800c8c2d5844386bdd1aa5e945f72e9', name='workspace.default.nyc-taxi-model', params=[<LoggedModelParameter: key='reg_alpha', value='0.21539205131792016'>,\n",
       " <LoggedModelParameter: key='num_boost_round', value='100'>,\n",
       " <LoggedModelParameter: key='reg_lambda', value='0.05006540936006931'>,\n",
       " <LoggedModelParameter: key='early_stopping_rounds', value='10'>,\n",
       " <LoggedModelParameter: key='custom_metric', value='None'>,\n",
       " <LoggedModelParameter: key='learning_rate', value='0.059264241587996896'>,\n",
       " <LoggedModelParameter: key='maximize', value='None'>,\n",
       " <LoggedModelParameter: key='max_depth', value='19'>,\n",
       " <LoggedModelParameter: key='objective', value='reg:squarederror'>,\n",
       " <LoggedModelParameter: key='min_child_weight', value='6.248180561354165'>,\n",
       " <LoggedModelParameter: key='seed', value='42'>,\n",
       " <LoggedModelParameter: key='verbose_eval', value='True'>], run_id='4da81d8531784e338eb8e7b23047c809', run_link=None, source='models:/m-b800c8c2d5844386bdd1aa5e945f72e9', status='READY', status_message='', tags={}, user_id='isabel.valladolid@iteso.mx', version='4'>"
      ]
     },
     "execution_count": 19,
     "metadata": {},
     "output_type": "execute_result"
    }
   ],
   "source": [
    "from datetime import datetime\n",
    "\n",
    "date = datetime.today()\n",
    "\n",
    "client.update_model_version(\n",
    "    name=bmodel_name,\n",
    "    version=model_version,\n",
    "    description=f\"The model version {model_version} was transitioned to {new_alias} on {date}\",\n",
    ")"
   ]
  },
  {
   "cell_type": "markdown",
   "id": "056d19c1",
   "metadata": {},
   "source": [
    "Obteniendo modelos del Moldel Registry"
   ]
  },
  {
   "cell_type": "code",
   "execution_count": 20,
   "id": "5b987dd3",
   "metadata": {},
   "outputs": [
    {
     "data": {
      "application/vnd.jupyter.widget-view+json": {
       "model_id": "a7aac6d5ce0144e1867c3b316721a0d4",
       "version_major": 2,
       "version_minor": 0
      },
      "text/plain": [
       "Downloading artifacts:   0%|          | 0/8 [00:00<?, ?it/s]"
      ]
     },
     "metadata": {},
     "output_type": "display_data"
    },
    {
     "name": "stderr",
     "output_type": "stream",
     "text": [
      "/Users/isabelvalladolid/Documents/ProyectoCienciaDatos/nyc-taxi-predictions-2025/.venv/lib/python3.11/site-packages/mlflow/xgboost/__init__.py:321: UserWarning: [21:02:36] WARNING: /Users/runner/work/xgboost/xgboost/src/c_api/c_api.cc:1511: Unknown file format: `xgb`. Using UBJSON (`ubj`) as a guess.\n",
      "  model.load_model(xgb_model_path)\n"
     ]
    },
    {
     "data": {
      "text/plain": [
       "array([ 5.182502, 25.113163, 28.840343, ..., 20.413898, 15.336824,\n",
       "       22.998106], shape=(44218,), dtype=float32)"
      ]
     },
     "execution_count": 20,
     "metadata": {},
     "output_type": "execute_result"
    }
   ],
   "source": [
    "\t\n",
    "import mlflow.pyfunc\n",
    "\n",
    "model_version_uri = f\"models:/{bmodel_name}@Champion\"\n",
    "\n",
    "champion_version = mlflow.pyfunc.load_model(model_version_uri)\n",
    "champion_version.predict(X_val)"
   ]
  },
  {
   "cell_type": "code",
   "execution_count": null,
   "id": "5acdd831",
   "metadata": {},
   "outputs": [],
   "source": []
  }
 ],
 "metadata": {
  "kernelspec": {
   "display_name": "nyc-taxi-predictions-2025",
   "language": "python",
   "name": "python3"
  },
  "language_info": {
   "codemirror_mode": {
    "name": "ipython",
    "version": 3
   },
   "file_extension": ".py",
   "mimetype": "text/x-python",
   "name": "python",
   "nbconvert_exporter": "python",
   "pygments_lexer": "ipython3",
   "version": "3.11.0"
  }
 },
 "nbformat": 4,
 "nbformat_minor": 5
}
